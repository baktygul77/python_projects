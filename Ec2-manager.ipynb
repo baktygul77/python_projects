{
 "cells": [
  {
   "cell_type": "code",
   "execution_count": 32,
   "metadata": {},
   "outputs": [
    {
     "name": "stdout",
     "output_type": "stream",
     "text": [
      "InstanceID i-04dd0dcce29a7b756\n",
      "SubentID subnet-32cb271c\n",
      "InstanceID i-0c2624d0adf83f6db\n",
      "SubentID subnet-32cb271c\n",
      "InstanceID i-0f5e65f32e6e964fc\n",
      "SubentID subnet-c0ce788a\n"
     ]
    }
   ],
   "source": [
    "import boto3\n",
    "import json\n",
    "\n",
    "ec2 = boto3.client('ec2')\n",
    "\n",
    "data = ec2.describe_instances()\n",
    "\n",
    "def get_instances():\n",
    "    for item in data['Reservations']:\n",
    "        if item['Instances'][0]['State']['Name'].lower() == 'running':\n",
    "            print('InstanceID', item['Instances'][0]['InstanceId'])\n",
    "            print('SubentID', item['Instances'][0]['SubnetId'])\n",
    "# get_instances()\n",
    "\n",
    "# ec2.create_instances(ImageId='ami-0b898040803850657', MinCount=1, MaxCount=1)"
   ]
  },
  {
   "cell_type": "code",
   "execution_count": 27,
   "metadata": {},
   "outputs": [],
   "source": [
    "def create_instance(name):\n",
    "    imageid = None\n",
    "    images = {\n",
    "        'aws-linux': 'ami-0b898040803850657',\n",
    "        'centos'  : 'ami-026c8acd92718196b'\n",
    "     }\n",
    "    if name in images.keys():\n",
    "        imageid = images[name]\n",
    "    else:\n",
    "        print['user image not found']\n",
    "    if imageid:\n",
    "        ec2 = boto3.resource('ec2')\n",
    "        ec2.create_instances(ImageId=imageid, MinCount=1, MaxCount=1,InstanceType='t2.micro')\n",
    "\n",
    "# create_instance('aws-linux')"
   ]
  },
  {
   "cell_type": "code",
   "execution_count": null,
   "metadata": {},
   "outputs": [],
   "source": [
    "# ec2.instances.filter(InstanceIds=i-0f5e65f32e6e964fc).stop()"
   ]
  },
  {
   "cell_type": "code",
   "execution_count": null,
   "metadata": {},
   "outputs": [],
   "source": []
  }
 ],
 "metadata": {
  "kernelspec": {
   "display_name": "Python 3",
   "language": "python",
   "name": "python3"
  },
  "language_info": {
   "codemirror_mode": {
    "name": "ipython",
    "version": 3
   },
   "file_extension": ".py",
   "mimetype": "text/x-python",
   "name": "python",
   "nbconvert_exporter": "python",
   "pygments_lexer": "ipython3",
   "version": "3.6.5"
  }
 },
 "nbformat": 4,
 "nbformat_minor": 2
}
