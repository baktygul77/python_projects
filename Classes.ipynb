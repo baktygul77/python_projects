{
 "cells": [
  {
   "cell_type": "code",
   "execution_count": null,
   "metadata": {},
   "outputs": [],
   "source": [
    "class Human:\n",
    "    def __init__(self, givenFirstName, givenLastName, givenGender):\n",
    "        self.fname = givenFirstName\n",
    "        self.lname = givenLastName\n",
    "        self.gender = givenGender\n",
    "    def print_info(self):\n",
    "        print(f'Hello, \\n my name is {self.fname} {self.lname} my gender is {self.gender}')\n"
   ]
  },
  {
   "cell_type": "code",
   "execution_count": null,
   "metadata": {},
   "outputs": [],
   "source": [
    "user1 = Human('Kyle','Smith','male')\n",
    "# user1.fname = 'Kyle'\n",
    "# user1.lname = 'Smith'\n",
    "# user1.gender = 'male'\n",
    "user1.status = False\n",
    "\n",
    "user2 = Human('Emma','Miller','female')\n",
    "# user2.fname = 'Emma'\n",
    "# user2.lname = 'Miller'\n",
    "user2.gender = 'female'\n",
    "user2.status = True"
   ]
  },
  {
   "cell_type": "code",
   "execution_count": null,
   "metadata": {},
   "outputs": [],
   "source": [
    "# print(user1.fname)\n",
    "# print(user2.fname)\n",
    "\n",
    "\n",
    "user1.print_info()\n",
    "user2.print_info()"
   ]
  },
  {
   "cell_type": "code",
   "execution_count": 1,
   "metadata": {},
   "outputs": [],
   "source": [
    "dataBase = []\n",
    "\n",
    "class Data:\n",
    "    def __init__(self, givenFirstName, givenLastName, givenGender, givenStatus=None):\n",
    "        self.fname = givenFirstName\n",
    "        self.lname = givenLastName\n",
    "        self.gender = givenGender\n",
    "        self.status = givenStatus\n",
    "        if self.status is None:\n",
    "            self.statuse = False\n",
    "\n",
    "  \n",
    "    def safe_info(self):\n",
    "        dataBase.append({'FirstName': self.fname,\n",
    "                         'LastName': self.lname,\n",
    "                         'Gender': self.gender,\n",
    "                         'Status': self.status})\n",
    "        \n",
    "#         dataBase.append(user)\n",
    "        print(f'{self.fname} has been added to Database')\n",
    "        \n",
    "# user2 = Data('Emma','Miller','female', True)\n",
    "# user1 = Data('Kyle','Smith','male')\n",
    "\n",
    "\n",
    "class Manager(Data):\n",
    "    def delete_user(self, name):\n",
    "        for user in dataBase:\n",
    "            if name in user['FirstName']:\n",
    "                dataBase.remove(user)\n",
    "                print(f'{user[\"FirstName\"]}  has been deleted')\n",
    "                break\n",
    "            else:\n",
    "                print('User not found')\n",
    "    \n",
    "   \n",
    "\n",
    "user2 = Data('Emma','Miller','female', True)\n",
    "user1 = Data('Kyle','Smith','male')\n",
    "user3 = Manager('Nodira','Saip','Female',True)\n",
    "user4 = Data('Pika','CHu','male', True)\n",
    "\n"
   ]
  },
  {
   "cell_type": "code",
   "execution_count": 2,
   "metadata": {},
   "outputs": [
    {
     "name": "stdout",
     "output_type": "stream",
     "text": [
      "Kyle has been added to Database\n",
      "Emma has been added to Database\n",
      "Pika has been added to Database\n",
      "Nodira has been added to Database\n",
      "[{'FirstName': 'Kyle', 'LastName': 'Smith', 'Gender': 'male', 'Status': None}, {'FirstName': 'Emma', 'LastName': 'Miller', 'Gender': 'female', 'Status': True}, {'FirstName': 'Pika', 'LastName': 'CHu', 'Gender': 'male', 'Status': True}, {'FirstName': 'Nodira', 'LastName': 'Saip', 'Gender': 'Female', 'Status': True}]\n",
      "User not found\n",
      "User not found\n",
      "Pika  has been deleted\n"
     ]
    }
   ],
   "source": [
    "# print(dataBase)\n",
    "user1.safe_info()\n",
    "user2.safe_info()\n",
    "user4.safe_info()\n",
    "user3.safe_info()\n",
    "\n",
    "\n",
    "print(dataBase)\n",
    "user3.delete_user('Pika')\n",
    "\n"
   ]
  },
  {
   "cell_type": "code",
   "execution_count": null,
   "metadata": {},
   "outputs": [],
   "source": []
  },
  {
   "cell_type": "code",
   "execution_count": null,
   "metadata": {},
   "outputs": [],
   "source": []
  }
 ],
 "metadata": {
  "kernelspec": {
   "display_name": "Python 3",
   "language": "python",
   "name": "python3"
  },
  "language_info": {
   "codemirror_mode": {
    "name": "ipython",
    "version": 3
   },
   "file_extension": ".py",
   "mimetype": "text/x-python",
   "name": "python",
   "nbconvert_exporter": "python",
   "pygments_lexer": "ipython3",
   "version": "3.6.5"
  }
 },
 "nbformat": 4,
 "nbformat_minor": 2
}
