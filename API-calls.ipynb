{
 "cells": [
  {
   "cell_type": "markdown",
   "metadata": {},
   "source": [
    "API"
   ]
  },
  {
   "cell_type": "code",
   "execution_count": null,
   "metadata": {},
   "outputs": [],
   "source": [
    "!python3.6 -m pip install requests"
   ]
  },
  {
   "cell_type": "code",
   "execution_count": 52,
   "metadata": {},
   "outputs": [
    {
     "name": "stdout",
     "output_type": "stream",
     "text": [
      "User has been created!!\n"
     ]
    }
   ],
   "source": [
    "#create a user with post method\n",
    "import requests\n",
    "url = \"https://api.academy.fuchicorp.com/v0.1/create_example/user\"\n",
    "user1 = {'username': 'kevin','password':'redhat01','firstname':'Kevin', 'lastname': 'Wick','email':'kevin@gmail.com'}\n",
    "\n",
    "response = requests.post(url, json=user1)\n",
    "if response.status_code == 200:\n",
    "    print(response.json()['message'])\n",
    "else:\n",
    "    print('Something went wrong')\n",
    "    "
   ]
  },
  {
   "cell_type": "code",
   "execution_count": 53,
   "metadata": {},
   "outputs": [
    {
     "name": "stdout",
     "output_type": "stream",
     "text": [
      "{'message': 'User information has been updated!!'}\n"
     ]
    }
   ],
   "source": [
    "##Update the Farhod User to Thomas\n",
    "import requests\n",
    "user_id = '26d7ba12-63e3-4172-b305-d8d7d8c8ebf3'\n",
    "update_url = f'https://api.academy.fuchicorp.com/v0.1/update_example/user/{user_id}'\n",
    "updated_user = {'username': 'kevin','password':'redhat01','firstname':'Philya', 'lastname': 'Kirilov','email':'Kevin@gmail.com'}\n",
    "\n",
    "response = requests.put(update_url, json=updated_user)\n",
    "if response.status_code == 200:\n",
    "    print(response.json())\n",
    "else:\n",
    "    print(\"Try agian!\")\n",
    "\n",
    "\n",
    "\n"
   ]
  },
  {
   "cell_type": "code",
   "execution_count": 56,
   "metadata": {},
   "outputs": [
    {
     "name": "stdout",
     "output_type": "stream",
     "text": [
      "{'message': 'User has been deleted!!', 'user_id': '0b614374-43c6-464d-b5d6-43dacd4dce3d'}\n"
     ]
    }
   ],
   "source": [
    "import requests\n",
    "\n",
    "user_id = '0b614374-43c6-464d-b5d6-43dacd4dce3d' \n",
    "delete_url = f'https://api.academy.fuchicorp.com/v0.1/delete_example/user/{user_id}'\n",
    "# print(delete_url)\n",
    "delete_user = {'username':'kevin','password':'redhat01'}\n",
    "\n",
    "response = requests.delete(delete_url, json=delete_user)\n",
    "if response.status_code == 200:\n",
    "    print(response.json())\n",
    "else:\n",
    "    print(\"Try agian!\")"
   ]
  },
  {
   "cell_type": "code",
   "execution_count": null,
   "metadata": {},
   "outputs": [],
   "source": []
  }
 ],
 "metadata": {
  "kernelspec": {
   "display_name": "Python 3",
   "language": "python",
   "name": "python3"
  },
  "language_info": {
   "codemirror_mode": {
    "name": "ipython",
    "version": 3
   },
   "file_extension": ".py",
   "mimetype": "text/x-python",
   "name": "python",
   "nbconvert_exporter": "python",
   "pygments_lexer": "ipython3",
   "version": "3.6.5"
  }
 },
 "nbformat": 4,
 "nbformat_minor": 2
}
